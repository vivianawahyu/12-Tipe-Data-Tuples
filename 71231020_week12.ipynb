{
  "nbformat": 4,
  "nbformat_minor": 0,
  "metadata": {
    "colab": {
      "provenance": []
    },
    "kernelspec": {
      "name": "python3",
      "display_name": "Python 3"
    },
    "language_info": {
      "name": "python"
    }
  },
  "cells": [
    {
      "cell_type": "markdown",
      "source": [
        "soal 1\n"
      ],
      "metadata": {
        "id": "nlZWREWgJLCV"
      }
    },
    {
      "cell_type": "code",
      "source": [
        "def cek_tupple(t):\n",
        "    if len(set(t)) == 1:\n",
        "        return True\n",
        "    else:\n",
        "        return False\n",
        "tA = (90, 90, 90, 90)\n",
        "hasil = cek_tupple(tA)\n",
        "print(hasil)"
      ],
      "metadata": {
        "colab": {
          "base_uri": "https://localhost:8080/"
        },
        "id": "kIDa_rNFJMYF",
        "outputId": "b673d43f-90bf-4618-9390-7bd25e7873f4"
      },
      "execution_count": 1,
      "outputs": [
        {
          "output_type": "stream",
          "name": "stdout",
          "text": [
            "True\n"
          ]
        }
      ]
    },
    {
      "cell_type": "markdown",
      "source": [
        "soal 2"
      ],
      "metadata": {
        "id": "aSttX00FJS33"
      }
    },
    {
      "cell_type": "code",
      "source": [
        "def tampilan_data(data):\n",
        "    name, NIM, address = data\n",
        "    print(\"Data\", data)\n",
        "    print(\"Nim\", NIM)\n",
        "    print(\"Nama\", name)\n",
        "    print(\"Alamat\", address)\n",
        "    print(\"Nim\", tuple(NIM))\n",
        "    print(\"Nama Depan\", tuple(name.split()[0].lower()))\n",
        "    print(\"Nama Terbalik\", tuple(name.split()[::-1]))\n",
        "\n",
        "biodata = ('Matahari Bhakti Nendya', '22064091', 'Bantul, DI Yogyakarta')\n",
        "tampilan_data(biodata)"
      ],
      "metadata": {
        "colab": {
          "base_uri": "https://localhost:8080/"
        },
        "id": "IMtaITrsJTnU",
        "outputId": "a4decc6e-e83d-45ac-9f2d-92ee80cf4e00"
      },
      "execution_count": 2,
      "outputs": [
        {
          "output_type": "stream",
          "name": "stdout",
          "text": [
            "Data ('Matahari Bhakti Nendya', '22064091', 'Bantul, DI Yogyakarta')\n",
            "Nim 22064091\n",
            "Nama Matahari Bhakti Nendya\n",
            "Alamat Bantul, DI Yogyakarta\n",
            "Nim ('2', '2', '0', '6', '4', '0', '9', '1')\n",
            "Nama Depan ('m', 'a', 't', 'a', 'h', 'a', 'r', 'i')\n",
            "Nama Terbalik ('Nendya', 'Bhakti', 'Matahari')\n"
          ]
        }
      ]
    },
    {
      "cell_type": "markdown",
      "source": [
        "soal 3"
      ],
      "metadata": {
        "id": "4YfAnbODJqCK"
      }
    },
    {
      "cell_type": "code",
      "source": [
        "def hitung_jam(file_name):\n",
        "    try:\n",
        "        with open(file_name) as file:\n",
        "            distribusi_jam = dict()\n",
        "            for line in file:\n",
        "                if line.startswith('From '):\n",
        "                    time = line.split()[5]\n",
        "                    hour = time.split(':')[0]\n",
        "                    distribusi_jam[hour] = distribusi_jam.get(hour, 0) + 1\n",
        "\n",
        "            for hour, jumlah in sorted(distribusi_jam.items()):\n",
        "                print(hour, jumlah)\n",
        "    except FileNotFoundError:\n",
        "        print(\"File not found.\")\n",
        "\n",
        "file_name = input(\"Masukkan nama file anda: \")\n",
        "hitung_jam(file_name)\n"
      ],
      "metadata": {
        "id": "CJhY4M8oJrCD"
      },
      "execution_count": null,
      "outputs": []
    }
  ]
}